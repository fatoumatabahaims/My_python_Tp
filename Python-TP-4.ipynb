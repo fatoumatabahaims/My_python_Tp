{
 "cells": [
  {
   "cell_type": "markdown",
   "id": "d68c1dee",
   "metadata": {
    "id": "d68c1dee"
   },
   "source": [
    "# Practical_4: Flow control"
   ]
  },
  {
   "cell_type": "markdown",
   "id": "c70c5ccf-f17e-43d3-86ac-987935d60e5e",
   "metadata": {
    "id": "bea983a3"
   },
   "source": [
    "---\n",
    "\n",
    "### Exercise 1:\n",
    "Write a Python program that checks if a number is positive or negative.\n",
    "\n",
    "```python\n",
    "# Exercise 1\n",
    "```"
   ]
  },
  {
   "cell_type": "code",
   "execution_count": 1,
   "id": "7c50c0ca-f2b6-447a-b311-0536412ffa8f",
   "metadata": {},
   "outputs": [
    {
     "name": "stdout",
     "output_type": "stream",
     "text": [
      "Positif\n",
      "Négatif\n",
      "Zéro\n"
     ]
    }
   ],
   "source": [
    "def check_number(n):\n",
    "    if n > 0:\n",
    "        return \"Positif\"\n",
    "    elif n < 0:\n",
    "        return \"Négatif\"\n",
    "    else:\n",
    "        return \"Zéro\"\n",
    "\n",
    "print(check_number(5))\n",
    "print(check_number(-3))\n",
    "print(check_number(0))"
   ]
  },
  {
   "cell_type": "markdown",
   "id": "f1aa6446-6e47-4e4b-82ca-0dfa25d34339",
   "metadata": {
    "id": "bea983a3"
   },
   "source": [
    "---\n",
    "\n",
    "### Exercise 2:\n",
    "Write a Python function that checks if a string starts with a vowel.\n",
    "\n",
    "```python\n",
    "# Exercise 2\n",
    "```"
   ]
  },
  {
   "cell_type": "code",
   "execution_count": 2,
   "id": "a27a3bdf-5015-4017-975f-65d13766425a",
   "metadata": {},
   "outputs": [
    {
     "name": "stdout",
     "output_type": "stream",
     "text": [
      "True\n",
      "False\n",
      "False\n"
     ]
    }
   ],
   "source": [
    "def starts_with_vowel(s):\n",
    "    vowels = 'aeiouAEIOU'\n",
    "    if s and s[0] in vowels:\n",
    "        return True\n",
    "    return False\n",
    "\n",
    "\n",
    "print(starts_with_vowel(\"apple\"))\n",
    "print(starts_with_vowel(\"Banana\"))\n",
    "print(starts_with_vowel(\"cherry\"))"
   ]
  },
  {
   "cell_type": "markdown",
   "id": "9b8b8722-e040-4156-b69e-0d09dca05a49",
   "metadata": {
    "id": "bea983a3"
   },
   "source": [
    "---\n",
    "\n",
    "### Exercise 3:\n",
    "Write a Python program that takes a list of integers and prints \"Even\" for each even number and \"Odd\" for each odd number.\n",
    "\n",
    "```python\n",
    "# Exercise 3"
   ]
  },
  {
   "cell_type": "code",
   "execution_count": 3,
   "id": "61284bfd-aa5d-44e8-bf52-920c14e3ae56",
   "metadata": {},
   "outputs": [
    {
     "name": "stdout",
     "output_type": "stream",
     "text": [
      "1: Odd\n",
      "2: Even\n",
      "3: Odd\n",
      "4: Even\n",
      "5: Odd\n"
     ]
    }
   ],
   "source": [
    "def check_even_odd(numbers):\n",
    "    for num in numbers:\n",
    "        if num % 2 == 0:\n",
    "            print(f\"{num}: Even\")\n",
    "        else:\n",
    "            print(f\"{num}: Odd\")\n",
    "\n",
    "# Test\n",
    "check_even_odd([1, 2, 3, 4, 5])"
   ]
  },
  {
   "cell_type": "markdown",
   "id": "67c01522-3596-40b2-a63c-f08a7cc9b106",
   "metadata": {
    "id": "bea983a3"
   },
   "source": [
    "```\n",
    "\n",
    "---\n",
    "\n",
    "### Exercise 4:\n",
    "Write a Python program that checks if a given year is a leap year.\n",
    "\n",
    "```python\n",
    "# Exercise 4\n",
    "```"
   ]
  },
  {
   "cell_type": "code",
   "execution_count": 4,
   "id": "0a798aff-d82e-4efc-85f5-9d7335185267",
   "metadata": {},
   "outputs": [
    {
     "name": "stdout",
     "output_type": "stream",
     "text": [
      "True\n",
      "False\n",
      "True\n"
     ]
    }
   ],
   "source": [
    "def is_leap_year(year):\n",
    "    if (year % 4 == 0 and year % 100 != 0) or (year % 400 == 0):\n",
    "        return True\n",
    "    return False\n",
    "\n",
    "print(is_leap_year(2020))\n",
    "print(is_leap_year(1900))\n",
    "print(is_leap_year(2000))"
   ]
  },
  {
   "cell_type": "markdown",
   "id": "211b6268-9b93-4811-9007-1343fe47f0c6",
   "metadata": {
    "id": "bea983a3"
   },
   "source": [
    "---\n",
    "\n",
    "### Exercise 5:\n",
    "Write a Python function that checks if a number is divisible by both 3 and 5.\n",
    "\n",
    "```python\n",
    "# Exercise 5\n",
    "```\n",
    "\n",
    "-"
   ]
  },
  {
   "cell_type": "code",
   "execution_count": 6,
   "id": "f2112a7d-9742-49b8-990b-b2aaea94708a",
   "metadata": {},
   "outputs": [
    {
     "name": "stdout",
     "output_type": "stream",
     "text": [
      "True\n",
      "False\n",
      "True\n"
     ]
    }
   ],
   "source": [
    "def divisible_by_3_and_5(n):\n",
    "    return n % 3 == 0 and n % 5 == 0\n",
    "\n",
    "\n",
    "print(divisible_by_3_and_5(15))\n",
    "print(divisible_by_3_and_5(10))\n",
    "print(divisible_by_3_and_5(30))"
   ]
  },
  {
   "cell_type": "markdown",
   "id": "e11b6398-02b3-428c-b547-c00f80eb88bf",
   "metadata": {
    "id": "bea983a3"
   },
   "source": [
    "--\n",
    "\n",
    "### Exercise 6:\n",
    "Write a Python program that prints \"Hot\" if the temperature is above 30, \"Warm\" if it is between 15 and 30, and \"Cold\" if it is below 15.\n",
    "\n",
    "```python\n",
    "# Exercise 6\n",
    "```"
   ]
  },
  {
   "cell_type": "code",
   "execution_count": 7,
   "id": "e24a3cc3-f7f0-42c6-bb6f-d81025440395",
   "metadata": {},
   "outputs": [
    {
     "name": "stdout",
     "output_type": "stream",
     "text": [
      "Hot\n",
      "Warm\n",
      "Cold\n"
     ]
    }
   ],
   "source": [
    "def check_temperature(temp):\n",
    "    if temp > 30:\n",
    "        return \"Hot\"\n",
    "    elif 15 <= temp <= 30:\n",
    "        return \"Warm\"\n",
    "    else:\n",
    "        return \"Cold\"\n",
    "\n",
    "print(check_temperature(35))\n",
    "print(check_temperature(20))\n",
    "print(check_temperature(10))"
   ]
  },
  {
   "cell_type": "markdown",
   "id": "eee0ba9b-716f-4714-bf60-1d548906ba85",
   "metadata": {
    "id": "bea983a3"
   },
   "source": [
    "---\n",
    "\n",
    "### Exercise 7:\n",
    "Write a Python program that checks if a string contains the letter 'a'.\n",
    "\n",
    "```python\n",
    "# Exercise 7\n",
    "```"
   ]
  },
  {
   "cell_type": "code",
   "execution_count": 8,
   "id": "7bdebfba-0930-4f7d-b472-68cea67c11ec",
   "metadata": {},
   "outputs": [
    {
     "name": "stdout",
     "output_type": "stream",
     "text": [
      "True\n",
      "True\n",
      "False\n"
     ]
    }
   ],
   "source": [
    "def contains_a(s):\n",
    "    return 'a' in s.lower()\n",
    "\n",
    "\n",
    "print(contains_a(\"apple\"))\n",
    "print(contains_a(\"Banana\"))\n",
    "print(contains_a(\"cherry\"))"
   ]
  },
  {
   "cell_type": "markdown",
   "id": "51f2b1b0-c49e-4d20-87a6-500d5456f8e0",
   "metadata": {
    "id": "bea983a3"
   },
   "source": [
    "---\n",
    "\n",
    "### Exercise 8:\n",
    "Write a Python function that checks if two numbers are equal, or which one is larger.\n",
    "\n",
    "```python\n",
    "# Exercise 8\n",
    "```"
   ]
  },
  {
   "cell_type": "code",
   "execution_count": 9,
   "id": "96b45def-6d7d-4b2d-8e9a-a5598fa9de36",
   "metadata": {},
   "outputs": [
    {
     "name": "stdout",
     "output_type": "stream",
     "text": [
      "Equal\n",
      "10 is larger\n",
      "8 is larger\n"
     ]
    }
   ],
   "source": [
    "def compare_numbers(a, b):\n",
    "    if a == b:\n",
    "        return \"Equal\"\n",
    "    elif a > b:\n",
    "        return f\"{a} is larger\"\n",
    "    else:\n",
    "        return f\"{b} is larger\"\n",
    "\n",
    "# Test\n",
    "print(compare_numbers(5, 5))\n",
    "print(compare_numbers(10, 5))\n",
    "print(compare_numbers(3, 8))"
   ]
  },
  {
   "cell_type": "markdown",
   "id": "5ed2e161-733b-4e85-a5bb-495b482b544d",
   "metadata": {
    "id": "bea983a3"
   },
   "source": [
    "---\n",
    "\n",
    "### Exercise 9:\n",
    "Write a Python program that checks if a list is empty.\n",
    "\n",
    "```python\n",
    "# Exercise 9\n",
    "```"
   ]
  },
  {
   "cell_type": "code",
   "execution_count": 10,
   "id": "5d7fe83f-0b5a-43b0-8f0a-318a91bd9ab8",
   "metadata": {},
   "outputs": [
    {
     "name": "stdout",
     "output_type": "stream",
     "text": [
      "True\n",
      "False\n"
     ]
    }
   ],
   "source": [
    "def is_list_empty(lst):\n",
    "    return len(lst) == 0\n",
    "\n",
    "print(is_list_empty([]))\n",
    "print(is_list_empty([1, 2, 3]))"
   ]
  },
  {
   "cell_type": "markdown",
   "id": "6d0d6e6a-35ff-4ad2-b698-b6341d5ff0d3",
   "metadata": {
    "id": "bea983a3"
   },
   "source": [
    "---\n",
    "\n",
    "### Exercise 10:\n",
    "Write a Python function that takes two strings and checks if they are anagrams.\n",
    "\n",
    "```python\n",
    "# Exercise 10\n",
    "```\n",
    "\n",
    "--"
   ]
  },
  {
   "cell_type": "code",
   "execution_count": 11,
   "id": "bc9dba3c-b01e-4b53-8e7f-3ad7d2870bb7",
   "metadata": {},
   "outputs": [
    {
     "name": "stdout",
     "output_type": "stream",
     "text": [
      "True\n",
      "False\n"
     ]
    }
   ],
   "source": [
    "def are_anagrams(s1, s2):\n",
    "    return sorted(s1.lower().replace(\" \", \"\")) == sorted(s2.lower().replace(\" \", \"\"))\n",
    "\n",
    "print(are_anagrams(\"listen\", \"silent\"))\n",
    "print(are_anagrams(\"hello\", \"world\"))"
   ]
  },
  {
   "cell_type": "markdown",
   "id": "840a7308-8d8f-4a90-8ff4-08efa76f94d4",
   "metadata": {
    "id": "bea983a3"
   },
   "source": [
    "-\n",
    "\n",
    "### Exercise 11:\n",
    "Write a Python program that checks if a number is prime.\n",
    "\n",
    "```python\n",
    "# Exercise 11\n",
    "```"
   ]
  },
  {
   "cell_type": "code",
   "execution_count": 12,
   "id": "ecb428bb-c1b8-42eb-b03d-cd253828096f",
   "metadata": {},
   "outputs": [
    {
     "name": "stdout",
     "output_type": "stream",
     "text": [
      "True\n",
      "False\n",
      "True\n"
     ]
    }
   ],
   "source": [
    "def is_prime(n):\n",
    "    if n <= 1:\n",
    "        return False\n",
    "    for i in range(2, int(n**0.5) + 1):\n",
    "        if n % i == 0:\n",
    "            return False\n",
    "    return True\n",
    "\n",
    "print(is_prime(7))\n",
    "print(is_prime(10))\n",
    "print(is_prime(13))"
   ]
  },
  {
   "cell_type": "markdown",
   "id": "59b98e95-d15c-48aa-873a-c5e7bb7b520e",
   "metadata": {
    "id": "bea983a3"
   },
   "source": [
    "---\n",
    "\n",
    "### Exercise 12:\n",
    "Write a Python program that checks if a list of numbers is sorted in ascending order.\n",
    "\n",
    "```python\n",
    "# Exercise 12\n",
    "```"
   ]
  },
  {
   "cell_type": "code",
   "execution_count": 14,
   "id": "5951b437-7df2-4d42-b663-dd429778101b",
   "metadata": {},
   "outputs": [
    {
     "name": "stdout",
     "output_type": "stream",
     "text": [
      "True\n",
      "False\n"
     ]
    }
   ],
   "source": [
    "def is_sorted(lst):\n",
    "    return lst == sorted(lst)\n",
    "\n",
    "print(is_sorted([1, 2, 3, 4]))\n",
    "print(is_sorted([1, 3, 2, 4]))"
   ]
  },
  {
   "cell_type": "markdown",
   "id": "0e80f805-9766-4405-821b-2c6fff7de5c9",
   "metadata": {
    "id": "bea983a3"
   },
   "source": [
    "---\n",
    "\n",
    "### Exercise 13:\n",
    "Write a Python function that takes a character and checks if it is a digit.\n",
    "\n",
    "```python\n",
    "# Exercise 13\n",
    "```"
   ]
  },
  {
   "cell_type": "code",
   "execution_count": 15,
   "id": "2c7919cd-9251-4a4b-82c2-5ec324c3853c",
   "metadata": {},
   "outputs": [
    {
     "name": "stdout",
     "output_type": "stream",
     "text": [
      "True\n",
      "False\n",
      "True\n"
     ]
    }
   ],
   "source": [
    "def is_digit(char):\n",
    "    return char.isdigit()\n",
    "\n",
    "print(is_digit('5'))\n",
    "print(is_digit('a'))\n",
    "print(is_digit('0'))"
   ]
  },
  {
   "cell_type": "markdown",
   "id": "e926f087-c54c-4f0f-ad2f-c7e901842c6f",
   "metadata": {
    "id": "bea983a3"
   },
   "source": [
    "---\n",
    "\n",
    "### Exercise 14:\n",
    "Write a Python function that checks if a string contains only uppercase letters.\n",
    "\n",
    "```python\n",
    "# Exercise 14\n",
    "```\n",
    "\n",
    "-"
   ]
  },
  {
   "cell_type": "code",
   "execution_count": 16,
   "id": "bdec5253-47cf-40ca-ab36-7738e640622f",
   "metadata": {},
   "outputs": [
    {
     "name": "stdout",
     "output_type": "stream",
     "text": [
      "True\n",
      "False\n",
      "False\n"
     ]
    }
   ],
   "source": [
    "def is_uppercase(s):\n",
    "    return s.isupper()\n",
    "\n",
    "print(is_uppercase(\"HELLO\"))\n",
    "print(is_uppercase(\"Hello\"))\n",
    "print(is_uppercase(\"hello\"))"
   ]
  },
  {
   "cell_type": "markdown",
   "id": "74c0d5bd-a958-4b9c-9446-0aea253740b1",
   "metadata": {
    "id": "bea983a3"
   },
   "source": [
    "--\n",
    "\n",
    "### Exercise 15:\n",
    "Write a Python program that checks if a number is a multiple of 10.\n",
    "\n",
    "```python\n",
    "# Exercise 15\n",
    "```"
   ]
  },
  {
   "cell_type": "code",
   "execution_count": 18,
   "id": "7a4e0bdb-dda3-4213-bae8-6dd75e3cb8b0",
   "metadata": {},
   "outputs": [
    {
     "name": "stdout",
     "output_type": "stream",
     "text": [
      "True\n",
      "False\n",
      "True\n"
     ]
    }
   ],
   "source": [
    "def is_multiple_of_10(n):\n",
    "    return n % 10 == 0\n",
    "\n",
    "print(is_multiple_of_10(20))\n",
    "print(is_multiple_of_10(15))\n",
    "print(is_multiple_of_10(100))"
   ]
  },
  {
   "cell_type": "markdown",
   "id": "c03542ac-6d3d-427e-9f19-2be2986a99a8",
   "metadata": {
    "id": "bea983a3"
   },
   "source": [
    "---\n",
    "\n",
    "### Exercise 16:\n",
    "Write a Python function that checks if a list contains any duplicates.\n",
    "\n",
    "```python\n",
    "# Exercise 16\n",
    "```"
   ]
  },
  {
   "cell_type": "code",
   "execution_count": 19,
   "id": "24d5f631-a717-4a99-955c-d74857722209",
   "metadata": {},
   "outputs": [
    {
     "name": "stdout",
     "output_type": "stream",
     "text": [
      "True\n",
      "False\n"
     ]
    }
   ],
   "source": [
    "def has_duplicates(lst):\n",
    "    return len(lst) != len(set(lst))\n",
    "\n",
    "print(has_duplicates([1, 2, 3, 2]))\n",
    "print(has_duplicates([1, 2, 3, 4]))"
   ]
  },
  {
   "cell_type": "markdown",
   "id": "950d2a20-87cc-40a7-b259-d6fccd267235",
   "metadata": {
    "id": "bea983a3"
   },
   "source": [
    "---\n",
    "\n",
    "### Exercise 17:\n",
    "Write a Python program that prints \"Teenager\" if the age is between 13 and 19, otherwise it prints \"Not a teenager.\"\n",
    "\n",
    "```python\n",
    "# Exercise 17\n",
    "```"
   ]
  },
  {
   "cell_type": "code",
   "execution_count": 20,
   "id": "7a656dd6-4bcf-42e4-9457-70e6ab63ddcb",
   "metadata": {},
   "outputs": [
    {
     "name": "stdout",
     "output_type": "stream",
     "text": [
      "Teenager\n",
      "Not a teenager\n",
      "Teenager\n"
     ]
    }
   ],
   "source": [
    "def check_teenager(age):\n",
    "    if 13 <= age <= 19:\n",
    "        return \"Teenager\"\n",
    "    return \"Not a teenager\"\n",
    "\n",
    "print(check_teenager(15))\n",
    "print(check_teenager(25))\n",
    "print(check_teenager(13))"
   ]
  },
  {
   "cell_type": "markdown",
   "id": "780c68c9-259a-496e-be28-a884f81de648",
   "metadata": {
    "id": "bea983a3"
   },
   "source": [
    "---\n",
    "\n",
    "### Exercise 18:\n",
    "Write a Python function that checks if a list contains an element greater than 100.\n",
    "\n",
    "```python\n",
    "# Exercise 18\n",
    "```"
   ]
  },
  {
   "cell_type": "code",
   "execution_count": 21,
   "id": "20665d4e-9805-4d36-9113-c4411b483715",
   "metadata": {},
   "outputs": [
    {
     "name": "stdout",
     "output_type": "stream",
     "text": [
      "True\n",
      "False\n"
     ]
    }
   ],
   "source": [
    "def has_greater_than_100(lst):\n",
    "    for num in lst:\n",
    "        if num > 100:\n",
    "            return True\n",
    "    return False\n",
    "\n",
    "print(has_greater_than_100([50, 75, 120]))\n",
    "print(has_greater_than_100([50, 75, 80]))"
   ]
  },
  {
   "cell_type": "markdown",
   "id": "ff86b38b-9717-498c-95ee-690fd40f624f",
   "metadata": {
    "id": "bea983a3"
   },
   "source": [
    "---\n",
    "\n",
    "### Exercise 19:\n",
    "Write a Python program that checks if a number is even or odd.\n",
    "\n",
    "```python\n",
    "# Exercise 19\n",
    "```"
   ]
  },
  {
   "cell_type": "code",
   "execution_count": 22,
   "id": "44f89dfb-2bad-40d8-8466-2aea2808bf10",
   "metadata": {},
   "outputs": [
    {
     "name": "stdout",
     "output_type": "stream",
     "text": [
      "Even\n",
      "Odd\n"
     ]
    }
   ],
   "source": [
    "def check_even_odd_single(n):\n",
    "    return \"Even\" if n % 2 == 0 else \"Odd\"\n",
    "\n",
    "print(check_even_odd_single(4))\n",
    "print(check_even_odd_single(7))"
   ]
  },
  {
   "cell_type": "markdown",
   "id": "37cdca34-1767-4247-a3ee-6f19439415a1",
   "metadata": {
    "id": "bea983a3"
   },
   "source": [
    "---\n",
    "\n",
    "### Exercise 20:\n",
    "Write a Python function that checks if a string ends with a punctuation mark.\n",
    "\n",
    "```python\n",
    "# Exercise 20\n",
    "```"
   ]
  },
  {
   "cell_type": "code",
   "execution_count": 23,
   "id": "6ec7b8dc-0101-4ddb-84a5-68ac09e3394e",
   "metadata": {},
   "outputs": [
    {
     "name": "stdout",
     "output_type": "stream",
     "text": [
      "True\n",
      "False\n",
      "True\n"
     ]
    }
   ],
   "source": [
    "import string\n",
    "\n",
    "def ends_with_punctuation(s):\n",
    "    return s and s[-1] in string.punctuation\n",
    "\n",
    "print(ends_with_punctuation(\"Hello!\"))\n",
    "print(ends_with_punctuation(\"Hello\"))\n",
    "print(ends_with_punctuation(\"Hello?\"))"
   ]
  },
  {
   "cell_type": "markdown",
   "id": "08387c70-e4f5-4ef3-8f5f-2395c4d2c8e2",
   "metadata": {
    "id": "bea983a3"
   },
   "source": [
    "---\n",
    "\n",
    "### Exercise 21:\n",
    "Write a Python program that prints \"Yes\" if the number is between 1 and 100, otherwise it prints \"No.\"\n",
    "\n",
    "```python\n",
    "# Exercise 21\n",
    "```"
   ]
  },
  {
   "cell_type": "code",
   "execution_count": 24,
   "id": "cd21ef8a-9bf6-497f-88ee-f0f5e2dfcca1",
   "metadata": {},
   "outputs": [
    {
     "name": "stdout",
     "output_type": "stream",
     "text": [
      "Yes\n",
      "No\n",
      "Yes\n"
     ]
    }
   ],
   "source": [
    "def in_range_1_100(n):\n",
    "    return \"Yes\" if 1 <= n <= 100 else \"No\"\n",
    "\n",
    "print(in_range_1_100(50))\n",
    "print(in_range_1_100(150))\n",
    "print(in_range_1_100(100))"
   ]
  },
  {
   "cell_type": "markdown",
   "id": "538df7c5-8a47-486b-9dd9-003d0df33abf",
   "metadata": {
    "id": "bea983a3"
   },
   "source": [
    "---\n",
    "\n",
    "### Exercise 22:\n",
    "Write a Python program that checks if two strings have the same length.\n",
    "\n",
    "```python\n",
    "# Exercise 22\n",
    "```"
   ]
  },
  {
   "cell_type": "code",
   "execution_count": 25,
   "id": "db041828-896d-41e3-9cfa-8d9de448faa8",
   "metadata": {},
   "outputs": [
    {
     "name": "stdout",
     "output_type": "stream",
     "text": [
      "True\n",
      "False\n"
     ]
    }
   ],
   "source": [
    "def same_length(s1, s2):\n",
    "    return len(s1) == len(s2)\n",
    "\n",
    "print(same_length(\"hello\", \"world\"))\n",
    "print(same_length(\"hi\", \"hello\"))"
   ]
  },
  {
   "cell_type": "markdown",
   "id": "967d1375-8876-4bad-944c-092614a11be1",
   "metadata": {
    "id": "bea983a3"
   },
   "source": [
    "---\n",
    "\n",
    "### Exercise 23:\n",
    "Write a Python function that checks if a number is greater than its reverse.\n",
    "\n",
    "```python\n",
    "# Exercise 23\n",
    "```"
   ]
  },
  {
   "cell_type": "code",
   "execution_count": 26,
   "id": "a649fcdc-f513-41c8-9a7e-925669558d12",
   "metadata": {},
   "outputs": [
    {
     "name": "stdout",
     "output_type": "stream",
     "text": [
      "False\n",
      "True\n"
     ]
    }
   ],
   "source": [
    "def greater_than_reverse(n):\n",
    "    reverse = int(str(n)[::-1])\n",
    "    return n > reverse\n",
    "\n",
    "print(greater_than_reverse(123))\n",
    "print(greater_than_reverse(321))"
   ]
  },
  {
   "cell_type": "markdown",
   "id": "52d6d58d-2f4b-4383-b17e-8923ddf8a000",
   "metadata": {
    "id": "bea983a3"
   },
   "source": [
    "---\n",
    "\n",
    "### Exercise 24:\n",
    "Write a Python program that checks if a password contains both letters and numbers.\n",
    "\n",
    "```python\n",
    "# Exercise 24\n",
    "```"
   ]
  },
  {
   "cell_type": "code",
   "execution_count": 27,
   "id": "36c30baf-0c21-4f1e-baf3-19a139bbfb74",
   "metadata": {},
   "outputs": [
    {
     "name": "stdout",
     "output_type": "stream",
     "text": [
      "True\n",
      "False\n",
      "False\n"
     ]
    }
   ],
   "source": [
    "def valid_password(password):\n",
    "    has_letter = any(char.isalpha() for char in password)\n",
    "    has_digit = any(char.isdigit() for char in password)\n",
    "    return has_letter and has_digit\n",
    "\n",
    "print(valid_password(\"abc123\"))\n",
    "print(valid_password(\"abcdef\"))\n",
    "print(valid_password(\"123456\"))"
   ]
  },
  {
   "cell_type": "markdown",
   "id": "568b2adb-6b20-4d75-a388-a66a06a315c8",
   "metadata": {
    "id": "bea983a3"
   },
   "source": [
    "---\n",
    "\n",
    "### Exercise 25:\n",
    "Write a Python program that checks if a number is between two given numbers.\n",
    "\n",
    "```python\n",
    "# Exercise 25\n",
    "```"
   ]
  },
  {
   "cell_type": "code",
   "execution_count": 28,
   "id": "a064cfa7-c577-44eb-bef5-e7bd6b6bbb0e",
   "metadata": {},
   "outputs": [
    {
     "name": "stdout",
     "output_type": "stream",
     "text": [
      "True\n",
      "False\n"
     ]
    }
   ],
   "source": [
    "def in_range(n, start, end):\n",
    "    return start <= n <= end\n",
    "\n",
    "print(in_range(5, 1, 10))\n",
    "print(in_range(15, 1, 10))"
   ]
  },
  {
   "cell_type": "markdown",
   "id": "c272fb40-3423-4a7a-920c-ee243926bbaa",
   "metadata": {
    "id": "bea983a3"
   },
   "source": [
    "---\n",
    "\n",
    "### Exercise 26:\n",
    "Write a Python function that checks if all characters in a string are unique.\n",
    "\n",
    "```python\n",
    "# Exercise 26\n",
    "```"
   ]
  },
  {
   "cell_type": "code",
   "execution_count": 29,
   "id": "e6c84fac-5dbb-44e4-bd77-c87280ec8a9b",
   "metadata": {},
   "outputs": [
    {
     "name": "stdout",
     "output_type": "stream",
     "text": [
      "True\n",
      "False\n"
     ]
    }
   ],
   "source": [
    "def all_unique_chars(s):\n",
    "    return len(s) == len(set(s))\n",
    "\n",
    "print(all_unique_chars(\"abcde\"))\n",
    "print(all_unique_chars(\"hello\"))"
   ]
  },
  {
   "cell_type": "code",
   "execution_count": null,
   "id": "6229247b-3a52-4056-a2e7-30cb21583e3f",
   "metadata": {},
   "outputs": [],
   "source": []
  }
 ],
 "metadata": {
  "colab": {
   "provenance": []
  },
  "kernelspec": {
   "display_name": "Python 3 (ipykernel)",
   "language": "python",
   "name": "python3"
  },
  "language_info": {
   "codemirror_mode": {
    "name": "ipython",
    "version": 3
   },
   "file_extension": ".py",
   "mimetype": "text/x-python",
   "name": "python",
   "nbconvert_exporter": "python",
   "pygments_lexer": "ipython3",
   "version": "3.13.3"
  }
 },
 "nbformat": 4,
 "nbformat_minor": 5
}
