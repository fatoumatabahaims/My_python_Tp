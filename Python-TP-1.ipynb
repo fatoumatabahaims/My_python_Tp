{
 "cells": [
  {
   "cell_type": "markdown",
   "id": "426486dd",
   "metadata": {
    "id": "426486dd"
   },
   "source": [
    "\n",
    "\n",
    "# Practical_1: Variables and Assignments"
   ]
  },
  {
   "cell_type": "markdown",
   "id": "23e60f89-bb1a-47df-b0b3-1b8b762f0f34",
   "metadata": {},
   "source": [
    "----\n",
    "\n",
    "### Exercise 1:\n",
    "Declare a variable `x` and assign it the value `10`.\n",
    "\n",
    "```python\n",
    "# Exercise 1"
   ]
  },
  {
   "cell_type": "code",
   "execution_count": null,
   "id": "01f6a19a-439f-4fc2-a5e4-b4966f7d0843",
   "metadata": {
    "jp-MarkdownHeadingCollapsed": true
   },
   "outputs": [],
   "source": [
    "x=10"
   ]
  },
  {
   "cell_type": "markdown",
   "id": "eeb8faf4-a51e-4752-b90b-5292e5f0fdff",
   "metadata": {},
   "source": [
    "---\n",
    "\n",
    "### Exercise 2:\n",
    "Assign the value `True` to a variable called `is_valid`.\n",
    "\n",
    "```python\n",
    "# Exercise 2"
   ]
  },
  {
   "cell_type": "code",
   "execution_count": null,
   "id": "ad69c29b-8044-44aa-bfad-37b243cbaeb0",
   "metadata": {
    "jp-MarkdownHeadingCollapsed": true
   },
   "outputs": [],
   "source": [
    "is-valid=True"
   ]
  },
  {
   "cell_type": "markdown",
   "id": "388ef8d0-471a-4418-bc4c-e6e33828ae6b",
   "metadata": {},
   "source": [
    "---\n",
    "\n",
    "### Exercise 3:\n",
    "Create a string variable `name` with the value \"Python Programming\".\n",
    "\n",
    "```python\n",
    "# Exercise 3"
   ]
  },
  {
   "cell_type": "code",
   "execution_count": null,
   "id": "ad67eae2-ada5-45de-a0b2-915cc18803ba",
   "metadata": {
    "jp-MarkdownHeadingCollapsed": true
   },
   "outputs": [],
   "source": [
    "name=\" Python Programming\""
   ]
  },
  {
   "cell_type": "markdown",
   "id": "82978e17-ef4c-403e-b3c2-ef88a43deff1",
   "metadata": {},
   "source": [
    "---\n",
    "\n",
    "### Exercise 4:\n",
    "Assign the result of `5 + 3` to a variable `sum_result`.\n",
    "\n",
    "```python\n",
    "# Exercise 4"
   ]
  },
  {
   "cell_type": "code",
   "execution_count": null,
   "id": "41805a1f-1c75-49b9-9ad9-f665f876de01",
   "metadata": {
    "jp-MarkdownHeadingCollapsed": true
   },
   "outputs": [],
   "source": [
    "sum_result=5+3"
   ]
  },
  {
   "cell_type": "markdown",
   "id": "9fd18fa2-23f5-48c9-a6c3-854b6d0fd99b",
   "metadata": {},
   "source": [
    "---\n",
    "\n",
    "### Exercise 5:\n",
    "Assign multiple variables in one line: `a = 5`, `b = 10`, `c = 15`.\n",
    "\n",
    "```python\n",
    "# Exercise 5"
   ]
  },
  {
   "cell_type": "code",
   "execution_count": null,
   "id": "951564ec-4239-40ee-bc5e-4d52b34a5434",
   "metadata": {
    "jp-MarkdownHeadingCollapsed": true
   },
   "outputs": [],
   "source": [
    "a,b,c=5,10,15"
   ]
  },
  {
   "cell_type": "markdown",
   "id": "24ba4f2f-f688-4dcd-b116-ec44f6b0077b",
   "metadata": {},
   "source": [
    "---\n",
    "\n",
    "### Exercise 6:\n",
    "Assign the value of one variable `x` to another variable `y`.\n",
    "\n",
    "```python\n",
    "# Exercise 6"
   ]
  },
  {
   "cell_type": "code",
   "execution_count": 1,
   "id": "f3d3a8cd-2da5-4fdc-94f7-1cd141be6d54",
   "metadata": {
    "jp-MarkdownHeadingCollapsed": true
   },
   "outputs": [
    {
     "name": "stdout",
     "output_type": "stream",
     "text": [
      "4 2\n"
     ]
    }
   ],
   "source": [
    "x=2  \n",
    "y=4\n",
    "tmp=x\n",
    "x=y\n",
    "y=tmp\n",
    "\n",
    "print(x,y)"
   ]
  },
  {
   "cell_type": "markdown",
   "id": "3e33aecf-125b-4af5-a7b5-0f9af75bdeba",
   "metadata": {},
   "source": [
    "---\n",
    "\n",
    "### Exercise 7:\n",
    "Assign a floating-point number `9.8` to a variable `gravity`.\n",
    "\n",
    "```python\n",
    "# Exercise 7"
   ]
  },
  {
   "cell_type": "code",
   "execution_count": 2,
   "id": "f65f7806-527b-4e66-997b-9ff7bf512e4c",
   "metadata": {
    "jp-MarkdownHeadingCollapsed": true
   },
   "outputs": [],
   "source": [
    "gravity=9.8"
   ]
  },
  {
   "cell_type": "markdown",
   "id": "2578e4c5-6e4e-45d0-a8bc-d158cfcdeeb4",
   "metadata": {},
   "source": [
    "---\n",
    "\n",
    "### Exercise 8:\n",
    "Create a variable `country` and assign it the string value of your favorite country.\n",
    "\n",
    "```python\n",
    "# Exercise 8"
   ]
  },
  {
   "cell_type": "code",
   "execution_count": 3,
   "id": "b9d2720a-9d03-403c-b92a-4e1e68da6c8c",
   "metadata": {
    "jp-MarkdownHeadingCollapsed": true
   },
   "outputs": [],
   "source": [
    "Country=\"Senegal\""
   ]
  },
  {
   "cell_type": "markdown",
   "id": "732e6599-2d2c-484b-bc26-930e6278fc61",
   "metadata": {},
   "source": [
    "---\n",
    "\n",
    "### Exercise 9:\n",
    "Change the value of variable `age` from `25` to `26` in two separate steps.\n",
    "\n",
    "```python\n",
    "# Exercise 9\n",
    "```"
   ]
  },
  {
   "cell_type": "code",
   "execution_count": null,
   "id": "eb6fbc19-3eaa-4a2a-bca7-16cf42450563",
   "metadata": {},
   "outputs": [],
   "source": [
    "age=25\n"
   ]
  },
  {
   "cell_type": "markdown",
   "id": "1f64d922-881e-4d17-8c17-3a5366ccc8cf",
   "metadata": {},
   "source": [
    "---\n",
    "\n",
    "### Exercise 10:\n",
    "Use one variable to store the result of subtracting two numbers `20 - 7`.\n",
    "\n",
    "```python\n",
    "# Exercise 10"
   ]
  },
  {
   "cell_type": "code",
   "execution_count": 5,
   "id": "a1fee7cb-ff76-4bcd-8140-0e6cfb93e752",
   "metadata": {},
   "outputs": [
    {
     "name": "stdout",
     "output_type": "stream",
     "text": [
      "13\n"
     ]
    }
   ],
   "source": [
    "y=20-7\n",
    "print(y)"
   ]
  },
  {
   "cell_type": "markdown",
   "id": "a30a44f6-3c0b-48d4-b0b4-03897ec148a7",
   "metadata": {},
   "source": [
    "---\n",
    "\n",
    "### Exercise 11:\n",
    "Assign an integer value and a floating-point value to two different variables.\n",
    "\n",
    "```python\n",
    "# Exercise 11\n",
    "```"
   ]
  },
  {
   "cell_type": "code",
   "execution_count": 6,
   "id": "73fdc073-7329-4ab0-8097-61772ab3e053",
   "metadata": {},
   "outputs": [],
   "source": [
    "x=3\n",
    "y=2.5"
   ]
  },
  {
   "cell_type": "markdown",
   "id": "70aa39c1-7ff8-4e39-a014-f45e1998c15c",
   "metadata": {},
   "source": [
    "---\n",
    "\n",
    "### Exercise 12:\n",
    "Assign a boolean value `False` to a variable `is_completed`.\n",
    "\n",
    "```python\n",
    "# Exercise 12\n",
    "```"
   ]
  },
  {
   "cell_type": "code",
   "execution_count": 8,
   "id": "d7fc42fd-5ead-4ffa-ab4c-dda7aea44097",
   "metadata": {},
   "outputs": [],
   "source": [
    "is_completed=False"
   ]
  },
  {
   "cell_type": "markdown",
   "id": "4f2815fa-0eff-47fa-81d1-38a6727113ee",
   "metadata": {},
   "source": [
    "---\n",
    "\n",
    "### Exercise 13:\n",
    "Swap the values of two variables `x` and `y`.\n",
    "\n",
    "```python\n",
    "# Exercise 13\n",
    "```"
   ]
  },
  {
   "cell_type": "code",
   "execution_count": 9,
   "id": "01662721-f494-4011-8e86-7a7ff155e3b0",
   "metadata": {},
   "outputs": [
    {
     "name": "stdout",
     "output_type": "stream",
     "text": [
      "6 2\n"
     ]
    }
   ],
   "source": [
    "x,y=2,6\n",
    "tmp=2\n",
    "x=y\n",
    "y=tmp\n",
    "print(x,y)"
   ]
  },
  {
   "cell_type": "markdown",
   "id": "8f69ec5c-83bc-4f88-89eb-e0957ba1792c",
   "metadata": {},
   "source": [
    "---\n",
    "\n",
    "### Exercise 14:\n",
    "Assign a complex number `3 + 4j` to a variable `complex_num`.\n",
    "\n",
    "```python\n",
    "# Exercise 14\n",
    "```"
   ]
  },
  {
   "cell_type": "code",
   "execution_count": 11,
   "id": "bc03e0a8-6a1e-465a-8f18-cb7acf8d44c6",
   "metadata": {},
   "outputs": [],
   "source": [
    "complex_num=3+4j"
   ]
  },
  {
   "cell_type": "markdown",
   "id": "c3694ad6-8c4b-4db1-93b4-ee42de3f60de",
   "metadata": {},
   "source": [
    "---\n",
    "\n",
    "### Exercise 15:\n",
    "Reassign a variable from an integer to a string.\n",
    "\n",
    "```python\n",
    "# Exercise 15\n",
    "```"
   ]
  },
  {
   "cell_type": "code",
   "execution_count": 12,
   "id": "f5d2a077-3f93-4e36-878a-1594f4960b03",
   "metadata": {},
   "outputs": [
    {
     "name": "stdout",
     "output_type": "stream",
     "text": [
      "23\n"
     ]
    }
   ],
   "source": [
    "x=23\n",
    "print(int(x))"
   ]
  },
  {
   "cell_type": "markdown",
   "id": "20fb3d09-97e7-48ee-8a92-22aef0706e1c",
   "metadata": {},
   "source": [
    "---\n",
    "\n",
    "### Exercise 16:\n",
    "Create two variables `first_name` and `last_name`, and assign them your first and last names.\n",
    "\n",
    "```python\n",
    "# Exercise 16\n",
    "```"
   ]
  },
  {
   "cell_type": "code",
   "execution_count": 13,
   "id": "90d41b6f-1426-4910-bc51-82d35904bbc2",
   "metadata": {},
   "outputs": [],
   "source": [
    "first_name=\"Fatima\"\n",
    "last_name=\"BAH\""
   ]
  },
  {
   "cell_type": "markdown",
   "id": "8b627978-d3d5-47eb-988b-23c49fecb134",
   "metadata": {},
   "source": [
    "---\n",
    "\n",
    "### Exercise 17:\n",
    "Create a variable `temperature` and assign it the value of `35.5`.\n",
    "\n",
    "```python\n",
    "# Exercise 17\n",
    "```"
   ]
  },
  {
   "cell_type": "code",
   "execution_count": 14,
   "id": "a93b5fd3-370e-48cc-8acc-d0a0fab6a3a9",
   "metadata": {},
   "outputs": [],
   "source": [
    "temperature=35.5"
   ]
  },
  {
   "cell_type": "markdown",
   "id": "8dd1d4a2-87ba-4707-b185-05edf5d8e3c5",
   "metadata": {},
   "source": [
    "---\n",
    "\n",
    "### Exercise 18:\n",
    "Assign the result of the multiplication of two numbers `8 * 6` to a variable `product`.\n",
    "\n",
    "```python\n",
    "# Exercise 18\n",
    "```"
   ]
  },
  {
   "cell_type": "code",
   "execution_count": 15,
   "id": "f359f23e-236f-4870-b80a-fdaf5d99986e",
   "metadata": {},
   "outputs": [
    {
     "name": "stdout",
     "output_type": "stream",
     "text": [
      "48\n"
     ]
    }
   ],
   "source": [
    "product=8*6\n",
    "print(product)"
   ]
  },
  {
   "cell_type": "markdown",
   "id": "ec1ef753-e034-437b-aa7f-4c1c6b87186f",
   "metadata": {},
   "source": [
    "---\n",
    "\n",
    "### Exercise 19:\n",
    "Assign a sentence of your choice to a variable `sentence`.\n",
    "\n",
    "```python\n",
    "# Exercise 19\n",
    "```"
   ]
  },
  {
   "cell_type": "code",
   "execution_count": 16,
   "id": "831676f5-9c7f-4002-b750-86d25a5a99aa",
   "metadata": {},
   "outputs": [],
   "source": [
    "sentence=\"one of the biggest distraction is other people opion about us\""
   ]
  },
  {
   "cell_type": "markdown",
   "id": "6e961c60-dd6c-457e-abc8-48a614ff7aab",
   "metadata": {},
   "source": [
    "---\n",
    "\n",
    "### Exercise 20:\n",
    "Use an assignment to convert a string `'50'` into an integer variable `int_value`.\n",
    "\n",
    "```python\n",
    "# Exercise 20\n",
    "```"
   ]
  },
  {
   "cell_type": "code",
   "execution_count": 20,
   "id": "b8dd8fc0-0d10-4cca-89c3-523e023f5981",
   "metadata": {},
   "outputs": [
    {
     "name": "stdout",
     "output_type": "stream",
     "text": [
      "50\n"
     ]
    },
    {
     "data": {
      "text/plain": [
       "int"
      ]
     },
     "execution_count": 20,
     "metadata": {},
     "output_type": "execute_result"
    }
   ],
   "source": [
    "x='50'\n",
    "int_value=int('50')\n",
    "print(int_value)\n",
    "type(int_value)"
   ]
  },
  {
   "cell_type": "markdown",
   "id": "dc739989-8877-4e47-965d-49f926f66e76",
   "metadata": {},
   "source": [
    "---\n",
    "\n",
    "### Exercise 21:\n",
    "Assign the result of dividing `144` by `12` to a variable `quotient`.\n",
    "\n",
    "```python\n",
    "# Exercise 21\n",
    "```"
   ]
  },
  {
   "cell_type": "code",
   "execution_count": 21,
   "id": "b6b23aca-869e-4c9d-bf44-a80b59e61df2",
   "metadata": {},
   "outputs": [
    {
     "name": "stdout",
     "output_type": "stream",
     "text": [
      "12.0\n"
     ]
    }
   ],
   "source": [
    "quotient=144/12\n",
    "print(quotient)"
   ]
  },
  {
   "cell_type": "markdown",
   "id": "9781e858-4136-4cf3-8cb0-ca6dcb9721e0",
   "metadata": {},
   "source": [
    "---\n",
    "\n",
    "### Exercise 22:\n",
    "Assign the remainder of `47 divided by 5` to a variable `remainder`.\n",
    "\n",
    "```python\n",
    "# Exercise 22\n",
    "```"
   ]
  },
  {
   "cell_type": "code",
   "execution_count": 22,
   "id": "118f1497-c7a0-4aab-89aa-23882930a856",
   "metadata": {},
   "outputs": [
    {
     "name": "stdout",
     "output_type": "stream",
     "text": [
      "9.4\n"
     ]
    }
   ],
   "source": [
    "remaider=47/5\n",
    "print(remaider)"
   ]
  },
  {
   "cell_type": "markdown",
   "id": "5f887070-70cd-42a8-9563-10e03dabf382",
   "metadata": {},
   "source": [
    "---\n",
    "\n",
    "### Exercise 23:\n",
    "Create a variable `is_student` and assign it the value `True`.\n",
    "\n",
    "```python\n",
    "# Exercise 23\n",
    "```"
   ]
  },
  {
   "cell_type": "code",
   "execution_count": 24,
   "id": "50c0bd69-f416-4866-bcd3-fa173e5d872c",
   "metadata": {},
   "outputs": [],
   "source": [
    "is_student=True"
   ]
  },
  {
   "cell_type": "markdown",
   "id": "29f62fe7-2eea-4394-a095-662318921a82",
   "metadata": {},
   "source": [
    "---\n",
    "\n",
    "### Exercise 24:\n",
    "Use a variable to store the result of a modulo operation: `45 % 4`.\n",
    "\n",
    "```python\n",
    "# Exercise 24\n",
    "```"
   ]
  },
  {
   "cell_type": "code",
   "execution_count": 25,
   "id": "ccf5361a-8102-4dd4-bc8d-f2c1aa2d8fed",
   "metadata": {},
   "outputs": [
    {
     "name": "stdout",
     "output_type": "stream",
     "text": [
      "1\n"
     ]
    }
   ],
   "source": [
    "x=45%4\n",
    "print(x)"
   ]
  },
  {
   "cell_type": "markdown",
   "id": "62bbc23a-d933-499a-b5a9-d3d1a5944445",
   "metadata": {},
   "source": [
    "---\n",
    "\n",
    "### Exercise 25:\n",
    "Create a variable `pi` and assign it the value `3.14159`.\n",
    "\n",
    "```python\n",
    "# Exercise 25\n",
    "```"
   ]
  },
  {
   "cell_type": "code",
   "execution_count": 26,
   "id": "b9850bef-7acb-4562-9d95-33e2ece42a44",
   "metadata": {},
   "outputs": [],
   "source": [
    "pi=3.14159"
   ]
  },
  {
   "cell_type": "markdown",
   "id": "277ae627-2565-4c64-aaad-2bdf7d08ff26",
   "metadata": {},
   "source": [
    "---\n",
    "\n",
    "### Exercise 26:\n",
    "Create two variables `length` and `width`, assign them values, and calculate the area of a rectangle.\n",
    "\n",
    "```python\n",
    "# Exercise 26\n",
    "```"
   ]
  },
  {
   "cell_type": "code",
   "execution_count": 28,
   "id": "932cd142-2a80-4bd7-b362-e3a1e7636a10",
   "metadata": {},
   "outputs": [
    {
     "name": "stdout",
     "output_type": "stream",
     "text": [
      "6\n"
     ]
    }
   ],
   "source": [
    "length=3\n",
    "width=2\n",
    "area= length*width\n",
    "print(area)"
   ]
  },
  {
   "cell_type": "markdown",
   "id": "83086734-b2d0-4dd8-bc69-3e112c289227",
   "metadata": {},
   "source": [
    "---\n",
    "\n",
    "### Exercise 27:\n",
    "Assign a negative number to a variable `negative_value`.\n",
    "\n",
    "```python\n",
    "# Exercise 27\n",
    "```"
   ]
  },
  {
   "cell_type": "code",
   "execution_count": 29,
   "id": "ef098d1a-4991-4036-a12d-4054dd3fc624",
   "metadata": {},
   "outputs": [],
   "source": [
    "negative_value=-24"
   ]
  },
  {
   "cell_type": "markdown",
   "id": "c81d33fc-ff6e-40f2-bf03-ede7ad744f85",
   "metadata": {},
   "source": [
    "---\n",
    "\n",
    "### Exercise 28:\n",
    "Assign a string containing a special character (e.g., \"Hello, World!\") to a variable `greeting`.\n",
    "\n",
    "```python\n",
    "# Exercise greeting\n",
    "```"
   ]
  },
  {
   "cell_type": "code",
   "execution_count": 30,
   "id": "80bbab7f-a775-4ee9-bcae-03bb3e34e65f",
   "metadata": {},
   "outputs": [],
   "source": [
    "greeting=(\"Hello word\")"
   ]
  },
  {
   "cell_type": "markdown",
   "id": "18ee7a9b-f99b-47f2-a88b-328f1c34e655",
   "metadata": {},
   "source": [
    "---\n",
    "\n",
    "### Exercise 29:\n",
    "Create a variable `population` and assign it a large integer value (in billions).\n",
    "\n",
    "```python\n",
    "# Exercise 29\n",
    "```"
   ]
  },
  {
   "cell_type": "code",
   "execution_count": 32,
   "id": "881aef40-d3e1-4212-bc20-73b65e6a17be",
   "metadata": {},
   "outputs": [],
   "source": [
    "population=1000000000"
   ]
  },
  {
   "cell_type": "markdown",
   "id": "b954561b-a510-41f6-866b-54f0e5ffd17b",
   "metadata": {},
   "source": [
    "---\n",
    "\n",
    "### Exercise 30:\n",
    "Use a variable to store the result of raising `2` to the power of `8`.\n",
    "\n",
    "```python\n",
    "# Exercise 30\n",
    "```"
   ]
  },
  {
   "cell_type": "code",
   "execution_count": 33,
   "id": "3b19f28d-324a-4f7c-aac1-133da87a9497",
   "metadata": {},
   "outputs": [
    {
     "name": "stdout",
     "output_type": "stream",
     "text": [
      "256\n"
     ]
    }
   ],
   "source": [
    "result=2**8\n",
    "print(result)"
   ]
  },
  {
   "cell_type": "markdown",
   "id": "0806d195-43b8-4d62-a354-4d10bb700c56",
   "metadata": {},
   "source": [
    "---\n",
    "\n",
    "### Exercise 31:\n",
    "Assign a list of your favorite fruits to a variable `fruits`.\n",
    "\n",
    "```python\n",
    "# Exercise 31\n",
    "```"
   ]
  },
  {
   "cell_type": "code",
   "execution_count": 37,
   "id": "5cd861ff-f501-4638-addd-145d0c9e68ab",
   "metadata": {},
   "outputs": [
    {
     "name": "stdout",
     "output_type": "stream",
     "text": [
      "banana\n",
      "['apple', 'pineaple', 'pawpaw', 'banana']\n"
     ]
    }
   ],
   "source": [
    "fruits=['apple','pineaple','pawpaw','banana']\n",
    "print(fruits[-1])\n",
    "print(fruits)\n"
   ]
  },
  {
   "cell_type": "markdown",
   "id": "74cd0e6e-914e-4e0d-a91e-9d22315f3c54",
   "metadata": {},
   "source": [
    "---\n",
    "\n",
    "### Exercise 32:\n",
    "Assign a tuple of three numbers to a variable `coordinates`.\n",
    "\n",
    "```python\n",
    "# Exercise 32\n",
    "```"
   ]
  },
  {
   "cell_type": "code",
   "execution_count": 39,
   "id": "562d6483-984b-4f04-ac54-2fcc59821d8b",
   "metadata": {},
   "outputs": [
    {
     "name": "stdout",
     "output_type": "stream",
     "text": [
      "(2, 4, 9)\n"
     ]
    }
   ],
   "source": [
    "coordinates=(2,4,9)\n",
    "print(coordinates)"
   ]
  },
  {
   "cell_type": "markdown",
   "id": "ff33b705-56bf-47dc-af49-eeb5465dda68",
   "metadata": {},
   "source": [
    "---\n",
    "\n",
    "### Exercise 33:\n",
    "Assign a dictionary with keys `name` and `age` to a variable `person`.\n",
    "\n",
    "```python\n",
    "# Exercise 33\n",
    "```"
   ]
  },
  {
   "cell_type": "code",
   "execution_count": 1,
   "id": "37d58218-f60a-40f9-9aea-9cc73571c129",
   "metadata": {},
   "outputs": [
    {
     "name": "stdout",
     "output_type": "stream",
     "text": [
      "{'name': 'Diallo', 'age': 23}\n"
     ]
    }
   ],
   "source": [
    "person={'name':'Diallo', 'age':23}\n",
    "print(person)"
   ]
  },
  {
   "cell_type": "markdown",
   "id": "b49b8ae0-a3aa-4679-a5fd-f2e60029f281",
   "metadata": {},
   "source": [
    "---\n",
    "\n",
    "### Exercise 34:\n",
    "Use variables to store the sum of two floating-point numbers.\n",
    "\n",
    "```python\n",
    "# Exercise 34\n",
    "```"
   ]
  },
  {
   "cell_type": "code",
   "execution_count": 4,
   "id": "b5fcf4b8-1dca-468f-b501-73b81d5a2761",
   "metadata": {},
   "outputs": [
    {
     "name": "stdin",
     "output_type": "stream",
     "text": [
      "donner un nombre 3.2\n",
      "donner un nombre 2.9\n"
     ]
    },
    {
     "name": "stdout",
     "output_type": "stream",
     "text": [
      "6.1\n"
     ]
    }
   ],
   "source": [
    "x=float(input(\"donner un nombre\"))\n",
    "y=float(input(\"donner un nombre\"))\n",
    "sum=x+y\n",
    "print(sum)"
   ]
  },
  {
   "cell_type": "markdown",
   "id": "f36e8c17-842c-48d0-bd68-f3bd8bc7c01e",
   "metadata": {},
   "source": [
    "---\n",
    "\n",
    "### Exercise 35:\n",
    "Create a variable `is_sunny` and assign it the result of a comparison `10 > 5`.\n",
    "\n",
    "```python\n",
    "# Exercise 35\n",
    "```"
   ]
  },
  {
   "cell_type": "code",
   "execution_count": 5,
   "id": "53f93960-e4cf-4bc7-9d95-af1f069f06d2",
   "metadata": {},
   "outputs": [
    {
     "name": "stdout",
     "output_type": "stream",
     "text": [
      "True\n"
     ]
    }
   ],
   "source": [
    "is_sunny = 10 > 5\n",
    "print(is_sunny)\n"
   ]
  },
  {
   "cell_type": "markdown",
   "id": "7aaf742a-a929-4906-bafd-ce5ba563319c",
   "metadata": {},
   "source": [
    "---\n",
    "\n",
    "### Exercise 37:\n",
    "Reassign a variable that originally held a number to a boolean value.\n",
    "\n",
    "```python\n",
    "# Exercise 37\n",
    "```"
   ]
  },
  {
   "cell_type": "code",
   "execution_count": 8,
   "id": "23b627ba-4fd8-42ab-a671-c4300aef9f08",
   "metadata": {},
   "outputs": [
    {
     "name": "stdout",
     "output_type": "stream",
     "text": [
      "True\n"
     ]
    }
   ],
   "source": [
    "x = 10      # variable contenant un nombre\n",
    "x = True    # réassignation à une valeur booléenne\n",
    "print(x)\n",
    "\n"
   ]
  },
  {
   "cell_type": "markdown",
   "id": "95e8de9b-383a-4ebe-a144-4cb084a61a96",
   "metadata": {},
   "source": [
    "---\n",
    "\n",
    "### Exercise 36:\n",
    "Assign a string and an integer to two different variables, then print both on one line.\n",
    "\n",
    "```python\n",
    "# Exercise 36\n",
    "```"
   ]
  },
  {
   "cell_type": "code",
   "execution_count": 7,
   "id": "d103278f-e6db-4447-a704-119a0d57b32d",
   "metadata": {},
   "outputs": [
    {
     "name": "stdout",
     "output_type": "stream",
     "text": [
      "Alice 25\n"
     ]
    }
   ],
   "source": [
    "nom = \"Alice\"\n",
    "age = 25\n",
    "print(nom, age)"
   ]
  },
  {
   "cell_type": "markdown",
   "id": "4667d231-6c39-4198-94a2-1ce966ed083e",
   "metadata": {},
   "source": [
    "---\n",
    "\n",
    "### Exercise 38:\n",
    "Create a variable `is_weekend` and assign it the result of `False`.\n",
    "\n",
    "```python\n",
    "# Exercise 38\n",
    "```"
   ]
  },
  {
   "cell_type": "code",
   "execution_count": 10,
   "id": "f619b363-dd98-45c6-b78e-18ff5f693522",
   "metadata": {},
   "outputs": [
    {
     "name": "stdout",
     "output_type": "stream",
     "text": [
      "False\n"
     ]
    }
   ],
   "source": [
    "is_weekend = False\n",
    "print(is_weekend)\n"
   ]
  },
  {
   "cell_type": "markdown",
   "id": "658f1463-98dc-47a4-883b-d88bb4bd45d0",
   "metadata": {},
   "source": [
    "---\n",
    "\n",
    "### Exercise 39:\n",
    "Assign a multi-line string to a variable `description`.\n",
    "\n",
    "```python\n",
    "# Exercise 39\n",
    "```"
   ]
  },
  {
   "cell_type": "code",
   "execution_count": 11,
   "id": "80817820-14ee-4e5b-a13c-db2c9c3681e5",
   "metadata": {},
   "outputs": [
    {
     "name": "stdout",
     "output_type": "stream",
     "text": [
      "Python est un langage de programmation\n",
      "simple, puissant et polyvalent.\n",
      "Il est utilisé dans de nombreux domaines.\n"
     ]
    }
   ],
   "source": [
    "description = \"\"\"Python est un langage de programmation\n",
    "simple, puissant et polyvalent.\n",
    "Il est utilisé dans de nombreux domaines.\"\"\"\n",
    "print(description)\n"
   ]
  },
  {
   "cell_type": "markdown",
   "id": "dfafd8d7-7555-4c85-a243-dec5b2faee8e",
   "metadata": {},
   "source": [
    "---\n",
    "\n",
    "### Exercise 40:\n",
    "Use variables to store the result of the absolute value of `-25`.\n",
    "\n",
    "```python\n",
    "# Exercise 40\n",
    "```"
   ]
  },
  {
   "cell_type": "code",
   "execution_count": 12,
   "id": "4e152975-0207-4b11-8f2f-a5cdab32cddf",
   "metadata": {},
   "outputs": [
    {
     "name": "stdout",
     "output_type": "stream",
     "text": [
      "25\n"
     ]
    }
   ],
   "source": [
    "resultat = abs(-25)\n",
    "print(resultat)\n"
   ]
  },
  {
   "cell_type": "markdown",
   "id": "71b577ac-c961-4972-8b55-53e1c3ed966e",
   "metadata": {},
   "source": [
    "---\n",
    "\n",
    "### Exercise 41:\n",
    "Assign the result of a floor division `100 // 6` to a variable `floor_div_result`.\n",
    "\n",
    "```python\n",
    "# Exercise 41\n",
    "```"
   ]
  },
  {
   "cell_type": "code",
   "execution_count": 13,
   "id": "6216f25f-0ccd-4449-a858-33bdc6537b40",
   "metadata": {},
   "outputs": [
    {
     "name": "stdout",
     "output_type": "stream",
     "text": [
      "16\n"
     ]
    }
   ],
   "source": [
    "floor_div_result = 100 // 6\n",
    "print(floor_div_result)\n"
   ]
  },
  {
   "cell_type": "markdown",
   "id": "ad95cc8b-c92e-4033-bb15-4b281614be24",
   "metadata": {},
   "source": [
    "---\n",
    "\n",
    "### Exercise 42:\n",
    "Assign the result of adding a floating-point number to an integer to a variable `mixed_sum`.\n",
    "\n",
    "```python\n",
    "# Exercise 42\n",
    "```"
   ]
  },
  {
   "cell_type": "code",
   "execution_count": 14,
   "id": "6f53abe7-e574-4e25-b312-b9bd90cc9cdf",
   "metadata": {},
   "outputs": [
    {
     "name": "stdout",
     "output_type": "stream",
     "text": [
      "7.5\n"
     ]
    }
   ],
   "source": [
    "mixed_sum = 4.5 + 3\n",
    "print(mixed_sum)\n"
   ]
  },
  {
   "cell_type": "markdown",
   "id": "86fcfd9b-ce7f-4bf2-bec7-812d725a80b2",
   "metadata": {},
   "source": [
    "---\n",
    "\n",
    "\n",
    "### Exercise 43:\n",
    "Assign a boolean value based on the comparison of two variables `a = 10` and `b = 15`.\n",
    "\n",
    "```python\n",
    "# Exercise 43\n",
    "```"
   ]
  },
  {
   "cell_type": "code",
   "execution_count": 15,
   "id": "0db1f1ad-4b1f-4f2a-b199-b0188ce1233c",
   "metadata": {},
   "outputs": [
    {
     "name": "stdout",
     "output_type": "stream",
     "text": [
      "True\n"
     ]
    }
   ],
   "source": [
    "a = 10\n",
    "b = 15\n",
    "\n",
    "resultat = a < b\n",
    "print(resultat)  \n"
   ]
  },
  {
   "cell_type": "markdown",
   "id": "3bf26ca1-0cab-487e-823c-d84db06ab6b2",
   "metadata": {},
   "source": [
    "---\n",
    "\n",
    "### Exercise 44:\n",
    "Assign a long sentence to a variable and count its characters using `len()`.\n",
    "\n",
    "```python\n",
    "# Exercise 44\n",
    "```"
   ]
  },
  {
   "cell_type": "code",
   "execution_count": 24,
   "id": "e22f3fcd-7981-453e-a599-2bcd66819880",
   "metadata": {},
   "outputs": [
    {
     "name": "stdout",
     "output_type": "stream",
     "text": [
      "16\n"
     ]
    }
   ],
   "source": [
    "sentence = \"Bonjour le monde\"\n",
    "print(len(sentence)) \n"
   ]
  },
  {
   "cell_type": "markdown",
   "id": "593f99cc-16bf-4168-bf52-ac15b748a3e2",
   "metadata": {},
   "source": [
    "---\n",
    "\n",
    "### Exercise 45:\n",
    "Assign a fractional result `7 / 3` to a variable `division_result`.\n",
    "\n",
    "```python\n",
    "# Exercise 45\n",
    "```"
   ]
  },
  {
   "cell_type": "code",
   "execution_count": 25,
   "id": "b54ba3c3-3397-48ba-83b2-e3bed3d2ebe2",
   "metadata": {},
   "outputs": [
    {
     "name": "stdout",
     "output_type": "stream",
     "text": [
      "2.3333333333333335\n"
     ]
    }
   ],
   "source": [
    "division_result = 7 / 3\n",
    "print(division_result)\n"
   ]
  },
  {
   "cell_type": "markdown",
   "id": "c711b7ba-f50a-496f-9fef-5f7ccfb89589",
   "metadata": {},
   "source": [
    "---\n",
    "\n",
    "### Exercise 46:\n",
    "Create a variable `speed` and assign it the value of 100 kilometers per hour.\n",
    "\n",
    "```python\n",
    "# Exercise 46\n",
    "```"
   ]
  },
  {
   "cell_type": "code",
   "execution_count": 26,
   "id": "c768e22b-b3d6-4dc0-8b0d-e5f4af1cab14",
   "metadata": {},
   "outputs": [
    {
     "name": "stdout",
     "output_type": "stream",
     "text": [
      "100\n"
     ]
    }
   ],
   "source": [
    "speed = 100  \n",
    "print(speed)\n"
   ]
  },
  {
   "cell_type": "code",
   "execution_count": 27,
   "id": "023eb2b5-4812-49a0-bf9d-95934150cb1f",
   "metadata": {},
   "outputs": [
    {
     "name": "stdout",
     "output_type": "stream",
     "text": [
      "100 km/h\n"
     ]
    }
   ],
   "source": [
    "speed_value = 100\n",
    "speed_unit = \"km/h\"\n",
    "print(f\"{speed_value} {speed_unit}\")\n"
   ]
  },
  {
   "cell_type": "markdown",
   "id": "4f2684fe-3684-4ec4-9f19-3e753670ade2",
   "metadata": {},
   "source": [
    "---\n",
    "\n",
    "### Exercise 47:\n",
    "Assign a multi-variable equation like `y = 3x + 5` where `x = 4` to a variable `y`.\n",
    "\n",
    "```python\n",
    "# Exercise 47\n",
    "```"
   ]
  },
  {
   "cell_type": "code",
   "execution_count": 28,
   "id": "35ea9689-ee79-4595-aee0-09f72ab0724f",
   "metadata": {},
   "outputs": [
    {
     "name": "stdout",
     "output_type": "stream",
     "text": [
      "17\n"
     ]
    }
   ],
   "source": [
    "x = 4\n",
    "y = 3 * x + 5\n",
    "print(y)  \n"
   ]
  },
  {
   "cell_type": "markdown",
   "id": "75493547",
   "metadata": {},
   "source": [
    "\n",
    "### Exercise 48:\n",
    "Use variables to calculate and store the average of three numbers.\n",
    "\n",
    "```python\n",
    "# Exercise 48\n",
    "```\n",
    "\n",
    "****"
   ]
  },
  {
   "cell_type": "code",
   "execution_count": 29,
   "id": "1d014789-d998-4a77-a246-9249b1ed3b41",
   "metadata": {},
   "outputs": [
    {
     "name": "stdout",
     "output_type": "stream",
     "text": [
      "20.0\n"
     ]
    }
   ],
   "source": [
    "# Utiliser des variables pour calculer et stocker la moyenne de trois nombres\n",
    "a = 10\n",
    "b = 20\n",
    "c = 30\n",
    "moyenne = (a + b + c) / 3\n",
    "print(moyenne)\n"
   ]
  }
 ],
 "metadata": {
  "colab": {
   "provenance": []
  },
  "kernelspec": {
   "display_name": "Python 3 (ipykernel)",
   "language": "python",
   "name": "python3"
  },
  "language_info": {
   "codemirror_mode": {
    "name": "ipython",
    "version": 3
   },
   "file_extension": ".py",
   "mimetype": "text/x-python",
   "name": "python",
   "nbconvert_exporter": "python",
   "pygments_lexer": "ipython3",
   "version": "3.13.3"
  }
 },
 "nbformat": 4,
 "nbformat_minor": 5
}
